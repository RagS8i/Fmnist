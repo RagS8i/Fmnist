{
  "cells": [
    {
      "cell_type": "code",
      "execution_count": 1,
      "metadata": {
        "colab": {
          "base_uri": "https://localhost:8080/"
        },
        "id": "Zd8AkPtWQ4Jx",
        "outputId": "ca5a479f-db61-4dcb-8ded-461c478d90e9"
      },
      "outputs": [
        {
          "output_type": "stream",
          "name": "stdout",
          "text": [
            "Mounted at /content/drive\n"
          ]
        }
      ],
      "source": [
        "import numpy\n",
        "import pandas as pd\n",
        "import sklearn\n",
        "from sklearn.model_selection import train_test_split\n",
        "\n",
        "import torch\n",
        "import matplotlib.pyplot as plt\n",
        "from torch.utils.data import Dataset, DataLoader\n",
        "import torch.optim as optim\n",
        "import torch.nn as nn\n",
        "from google.colab import drive\n",
        "drive.mount('/content/drive')"
      ]
    },
    {
      "cell_type": "code",
      "execution_count": 2,
      "metadata": {
        "colab": {
          "base_uri": "https://localhost:8080/"
        },
        "id": "bT8qw_W9SJ2c",
        "outputId": "2ff4de44-a110-4d61-c943-f043f55e68a3"
      },
      "outputs": [
        {
          "output_type": "execute_result",
          "data": {
            "text/plain": [
              "<torch._C.Generator at 0x7e25cf9a0530>"
            ]
          },
          "metadata": {},
          "execution_count": 2
        }
      ],
      "source": [
        "torch.manual_seed(42)"
      ]
    },
    {
      "cell_type": "code",
      "execution_count": 3,
      "metadata": {
        "colab": {
          "base_uri": "https://localhost:8080/"
        },
        "id": "lAfwFDYrv3c7",
        "outputId": "24f6a7fb-51dd-41cf-b07e-fa3303de2554"
      },
      "outputs": [
        {
          "output_type": "stream",
          "name": "stdout",
          "text": [
            "cuda\n"
          ]
        }
      ],
      "source": [
        "device=torch.device(\"cuda\" if torch.cuda.is_available() else \"cpu\")\n",
        "print(device)"
      ]
    },
    {
      "cell_type": "code",
      "execution_count": 4,
      "metadata": {
        "colab": {
          "base_uri": "https://localhost:8080/",
          "height": 255
        },
        "id": "hoEC8pX3SOLf",
        "outputId": "9746d2fd-0321-45b8-ba3a-ccc5a90d149b"
      },
      "outputs": [
        {
          "output_type": "execute_result",
          "data": {
            "text/plain": [
              "   label  pixel1  pixel2  pixel3  pixel4  pixel5  pixel6  pixel7  pixel8  \\\n",
              "0      2       0       0       0       0       0       0       0       0   \n",
              "1      9       0       0       0       0       0       0       0       0   \n",
              "2      6       0       0       0       0       0       0       0       5   \n",
              "3      0       0       0       0       1       2       0       0       0   \n",
              "4      3       0       0       0       0       0       0       0       0   \n",
              "\n",
              "   pixel9  ...  pixel775  pixel776  pixel777  pixel778  pixel779  pixel780  \\\n",
              "0       0  ...         0         0         0         0         0         0   \n",
              "1       0  ...         0         0         0         0         0         0   \n",
              "2       0  ...         0         0         0        30        43         0   \n",
              "3       0  ...         3         0         0         0         0         1   \n",
              "4       0  ...         0         0         0         0         0         0   \n",
              "\n",
              "   pixel781  pixel782  pixel783  pixel784  \n",
              "0         0         0         0         0  \n",
              "1         0         0         0         0  \n",
              "2         0         0         0         0  \n",
              "3         0         0         0         0  \n",
              "4         0         0         0         0  \n",
              "\n",
              "[5 rows x 785 columns]"
            ],
            "text/html": [
              "\n",
              "  <div id=\"df-672b6bc5-f7d4-4160-b603-e16d752ee624\" class=\"colab-df-container\">\n",
              "    <div>\n",
              "<style scoped>\n",
              "    .dataframe tbody tr th:only-of-type {\n",
              "        vertical-align: middle;\n",
              "    }\n",
              "\n",
              "    .dataframe tbody tr th {\n",
              "        vertical-align: top;\n",
              "    }\n",
              "\n",
              "    .dataframe thead th {\n",
              "        text-align: right;\n",
              "    }\n",
              "</style>\n",
              "<table border=\"1\" class=\"dataframe\">\n",
              "  <thead>\n",
              "    <tr style=\"text-align: right;\">\n",
              "      <th></th>\n",
              "      <th>label</th>\n",
              "      <th>pixel1</th>\n",
              "      <th>pixel2</th>\n",
              "      <th>pixel3</th>\n",
              "      <th>pixel4</th>\n",
              "      <th>pixel5</th>\n",
              "      <th>pixel6</th>\n",
              "      <th>pixel7</th>\n",
              "      <th>pixel8</th>\n",
              "      <th>pixel9</th>\n",
              "      <th>...</th>\n",
              "      <th>pixel775</th>\n",
              "      <th>pixel776</th>\n",
              "      <th>pixel777</th>\n",
              "      <th>pixel778</th>\n",
              "      <th>pixel779</th>\n",
              "      <th>pixel780</th>\n",
              "      <th>pixel781</th>\n",
              "      <th>pixel782</th>\n",
              "      <th>pixel783</th>\n",
              "      <th>pixel784</th>\n",
              "    </tr>\n",
              "  </thead>\n",
              "  <tbody>\n",
              "    <tr>\n",
              "      <th>0</th>\n",
              "      <td>2</td>\n",
              "      <td>0</td>\n",
              "      <td>0</td>\n",
              "      <td>0</td>\n",
              "      <td>0</td>\n",
              "      <td>0</td>\n",
              "      <td>0</td>\n",
              "      <td>0</td>\n",
              "      <td>0</td>\n",
              "      <td>0</td>\n",
              "      <td>...</td>\n",
              "      <td>0</td>\n",
              "      <td>0</td>\n",
              "      <td>0</td>\n",
              "      <td>0</td>\n",
              "      <td>0</td>\n",
              "      <td>0</td>\n",
              "      <td>0</td>\n",
              "      <td>0</td>\n",
              "      <td>0</td>\n",
              "      <td>0</td>\n",
              "    </tr>\n",
              "    <tr>\n",
              "      <th>1</th>\n",
              "      <td>9</td>\n",
              "      <td>0</td>\n",
              "      <td>0</td>\n",
              "      <td>0</td>\n",
              "      <td>0</td>\n",
              "      <td>0</td>\n",
              "      <td>0</td>\n",
              "      <td>0</td>\n",
              "      <td>0</td>\n",
              "      <td>0</td>\n",
              "      <td>...</td>\n",
              "      <td>0</td>\n",
              "      <td>0</td>\n",
              "      <td>0</td>\n",
              "      <td>0</td>\n",
              "      <td>0</td>\n",
              "      <td>0</td>\n",
              "      <td>0</td>\n",
              "      <td>0</td>\n",
              "      <td>0</td>\n",
              "      <td>0</td>\n",
              "    </tr>\n",
              "    <tr>\n",
              "      <th>2</th>\n",
              "      <td>6</td>\n",
              "      <td>0</td>\n",
              "      <td>0</td>\n",
              "      <td>0</td>\n",
              "      <td>0</td>\n",
              "      <td>0</td>\n",
              "      <td>0</td>\n",
              "      <td>0</td>\n",
              "      <td>5</td>\n",
              "      <td>0</td>\n",
              "      <td>...</td>\n",
              "      <td>0</td>\n",
              "      <td>0</td>\n",
              "      <td>0</td>\n",
              "      <td>30</td>\n",
              "      <td>43</td>\n",
              "      <td>0</td>\n",
              "      <td>0</td>\n",
              "      <td>0</td>\n",
              "      <td>0</td>\n",
              "      <td>0</td>\n",
              "    </tr>\n",
              "    <tr>\n",
              "      <th>3</th>\n",
              "      <td>0</td>\n",
              "      <td>0</td>\n",
              "      <td>0</td>\n",
              "      <td>0</td>\n",
              "      <td>1</td>\n",
              "      <td>2</td>\n",
              "      <td>0</td>\n",
              "      <td>0</td>\n",
              "      <td>0</td>\n",
              "      <td>0</td>\n",
              "      <td>...</td>\n",
              "      <td>3</td>\n",
              "      <td>0</td>\n",
              "      <td>0</td>\n",
              "      <td>0</td>\n",
              "      <td>0</td>\n",
              "      <td>1</td>\n",
              "      <td>0</td>\n",
              "      <td>0</td>\n",
              "      <td>0</td>\n",
              "      <td>0</td>\n",
              "    </tr>\n",
              "    <tr>\n",
              "      <th>4</th>\n",
              "      <td>3</td>\n",
              "      <td>0</td>\n",
              "      <td>0</td>\n",
              "      <td>0</td>\n",
              "      <td>0</td>\n",
              "      <td>0</td>\n",
              "      <td>0</td>\n",
              "      <td>0</td>\n",
              "      <td>0</td>\n",
              "      <td>0</td>\n",
              "      <td>...</td>\n",
              "      <td>0</td>\n",
              "      <td>0</td>\n",
              "      <td>0</td>\n",
              "      <td>0</td>\n",
              "      <td>0</td>\n",
              "      <td>0</td>\n",
              "      <td>0</td>\n",
              "      <td>0</td>\n",
              "      <td>0</td>\n",
              "      <td>0</td>\n",
              "    </tr>\n",
              "  </tbody>\n",
              "</table>\n",
              "<p>5 rows × 785 columns</p>\n",
              "</div>\n",
              "    <div class=\"colab-df-buttons\">\n",
              "\n",
              "  <div class=\"colab-df-container\">\n",
              "    <button class=\"colab-df-convert\" onclick=\"convertToInteractive('df-672b6bc5-f7d4-4160-b603-e16d752ee624')\"\n",
              "            title=\"Convert this dataframe to an interactive table.\"\n",
              "            style=\"display:none;\">\n",
              "\n",
              "  <svg xmlns=\"http://www.w3.org/2000/svg\" height=\"24px\" viewBox=\"0 -960 960 960\">\n",
              "    <path d=\"M120-120v-720h720v720H120Zm60-500h600v-160H180v160Zm220 220h160v-160H400v160Zm0 220h160v-160H400v160ZM180-400h160v-160H180v160Zm440 0h160v-160H620v160ZM180-180h160v-160H180v160Zm440 0h160v-160H620v160Z\"/>\n",
              "  </svg>\n",
              "    </button>\n",
              "\n",
              "  <style>\n",
              "    .colab-df-container {\n",
              "      display:flex;\n",
              "      gap: 12px;\n",
              "    }\n",
              "\n",
              "    .colab-df-convert {\n",
              "      background-color: #E8F0FE;\n",
              "      border: none;\n",
              "      border-radius: 50%;\n",
              "      cursor: pointer;\n",
              "      display: none;\n",
              "      fill: #1967D2;\n",
              "      height: 32px;\n",
              "      padding: 0 0 0 0;\n",
              "      width: 32px;\n",
              "    }\n",
              "\n",
              "    .colab-df-convert:hover {\n",
              "      background-color: #E2EBFA;\n",
              "      box-shadow: 0px 1px 2px rgba(60, 64, 67, 0.3), 0px 1px 3px 1px rgba(60, 64, 67, 0.15);\n",
              "      fill: #174EA6;\n",
              "    }\n",
              "\n",
              "    .colab-df-buttons div {\n",
              "      margin-bottom: 4px;\n",
              "    }\n",
              "\n",
              "    [theme=dark] .colab-df-convert {\n",
              "      background-color: #3B4455;\n",
              "      fill: #D2E3FC;\n",
              "    }\n",
              "\n",
              "    [theme=dark] .colab-df-convert:hover {\n",
              "      background-color: #434B5C;\n",
              "      box-shadow: 0px 1px 3px 1px rgba(0, 0, 0, 0.15);\n",
              "      filter: drop-shadow(0px 1px 2px rgba(0, 0, 0, 0.3));\n",
              "      fill: #FFFFFF;\n",
              "    }\n",
              "  </style>\n",
              "\n",
              "    <script>\n",
              "      const buttonEl =\n",
              "        document.querySelector('#df-672b6bc5-f7d4-4160-b603-e16d752ee624 button.colab-df-convert');\n",
              "      buttonEl.style.display =\n",
              "        google.colab.kernel.accessAllowed ? 'block' : 'none';\n",
              "\n",
              "      async function convertToInteractive(key) {\n",
              "        const element = document.querySelector('#df-672b6bc5-f7d4-4160-b603-e16d752ee624');\n",
              "        const dataTable =\n",
              "          await google.colab.kernel.invokeFunction('convertToInteractive',\n",
              "                                                    [key], {});\n",
              "        if (!dataTable) return;\n",
              "\n",
              "        const docLinkHtml = 'Like what you see? Visit the ' +\n",
              "          '<a target=\"_blank\" href=https://colab.research.google.com/notebooks/data_table.ipynb>data table notebook</a>'\n",
              "          + ' to learn more about interactive tables.';\n",
              "        element.innerHTML = '';\n",
              "        dataTable['output_type'] = 'display_data';\n",
              "        await google.colab.output.renderOutput(dataTable, element);\n",
              "        const docLink = document.createElement('div');\n",
              "        docLink.innerHTML = docLinkHtml;\n",
              "        element.appendChild(docLink);\n",
              "      }\n",
              "    </script>\n",
              "  </div>\n",
              "\n",
              "\n",
              "    <div id=\"df-3d6ce481-b3cc-451f-9208-2c75b89ae3b1\">\n",
              "      <button class=\"colab-df-quickchart\" onclick=\"quickchart('df-3d6ce481-b3cc-451f-9208-2c75b89ae3b1')\"\n",
              "                title=\"Suggest charts\"\n",
              "                style=\"display:none;\">\n",
              "\n",
              "<svg xmlns=\"http://www.w3.org/2000/svg\" height=\"24px\"viewBox=\"0 0 24 24\"\n",
              "     width=\"24px\">\n",
              "    <g>\n",
              "        <path d=\"M19 3H5c-1.1 0-2 .9-2 2v14c0 1.1.9 2 2 2h14c1.1 0 2-.9 2-2V5c0-1.1-.9-2-2-2zM9 17H7v-7h2v7zm4 0h-2V7h2v10zm4 0h-2v-4h2v4z\"/>\n",
              "    </g>\n",
              "</svg>\n",
              "      </button>\n",
              "\n",
              "<style>\n",
              "  .colab-df-quickchart {\n",
              "      --bg-color: #E8F0FE;\n",
              "      --fill-color: #1967D2;\n",
              "      --hover-bg-color: #E2EBFA;\n",
              "      --hover-fill-color: #174EA6;\n",
              "      --disabled-fill-color: #AAA;\n",
              "      --disabled-bg-color: #DDD;\n",
              "  }\n",
              "\n",
              "  [theme=dark] .colab-df-quickchart {\n",
              "      --bg-color: #3B4455;\n",
              "      --fill-color: #D2E3FC;\n",
              "      --hover-bg-color: #434B5C;\n",
              "      --hover-fill-color: #FFFFFF;\n",
              "      --disabled-bg-color: #3B4455;\n",
              "      --disabled-fill-color: #666;\n",
              "  }\n",
              "\n",
              "  .colab-df-quickchart {\n",
              "    background-color: var(--bg-color);\n",
              "    border: none;\n",
              "    border-radius: 50%;\n",
              "    cursor: pointer;\n",
              "    display: none;\n",
              "    fill: var(--fill-color);\n",
              "    height: 32px;\n",
              "    padding: 0;\n",
              "    width: 32px;\n",
              "  }\n",
              "\n",
              "  .colab-df-quickchart:hover {\n",
              "    background-color: var(--hover-bg-color);\n",
              "    box-shadow: 0 1px 2px rgba(60, 64, 67, 0.3), 0 1px 3px 1px rgba(60, 64, 67, 0.15);\n",
              "    fill: var(--button-hover-fill-color);\n",
              "  }\n",
              "\n",
              "  .colab-df-quickchart-complete:disabled,\n",
              "  .colab-df-quickchart-complete:disabled:hover {\n",
              "    background-color: var(--disabled-bg-color);\n",
              "    fill: var(--disabled-fill-color);\n",
              "    box-shadow: none;\n",
              "  }\n",
              "\n",
              "  .colab-df-spinner {\n",
              "    border: 2px solid var(--fill-color);\n",
              "    border-color: transparent;\n",
              "    border-bottom-color: var(--fill-color);\n",
              "    animation:\n",
              "      spin 1s steps(1) infinite;\n",
              "  }\n",
              "\n",
              "  @keyframes spin {\n",
              "    0% {\n",
              "      border-color: transparent;\n",
              "      border-bottom-color: var(--fill-color);\n",
              "      border-left-color: var(--fill-color);\n",
              "    }\n",
              "    20% {\n",
              "      border-color: transparent;\n",
              "      border-left-color: var(--fill-color);\n",
              "      border-top-color: var(--fill-color);\n",
              "    }\n",
              "    30% {\n",
              "      border-color: transparent;\n",
              "      border-left-color: var(--fill-color);\n",
              "      border-top-color: var(--fill-color);\n",
              "      border-right-color: var(--fill-color);\n",
              "    }\n",
              "    40% {\n",
              "      border-color: transparent;\n",
              "      border-right-color: var(--fill-color);\n",
              "      border-top-color: var(--fill-color);\n",
              "    }\n",
              "    60% {\n",
              "      border-color: transparent;\n",
              "      border-right-color: var(--fill-color);\n",
              "    }\n",
              "    80% {\n",
              "      border-color: transparent;\n",
              "      border-right-color: var(--fill-color);\n",
              "      border-bottom-color: var(--fill-color);\n",
              "    }\n",
              "    90% {\n",
              "      border-color: transparent;\n",
              "      border-bottom-color: var(--fill-color);\n",
              "    }\n",
              "  }\n",
              "</style>\n",
              "\n",
              "      <script>\n",
              "        async function quickchart(key) {\n",
              "          const quickchartButtonEl =\n",
              "            document.querySelector('#' + key + ' button');\n",
              "          quickchartButtonEl.disabled = true;  // To prevent multiple clicks.\n",
              "          quickchartButtonEl.classList.add('colab-df-spinner');\n",
              "          try {\n",
              "            const charts = await google.colab.kernel.invokeFunction(\n",
              "                'suggestCharts', [key], {});\n",
              "          } catch (error) {\n",
              "            console.error('Error during call to suggestCharts:', error);\n",
              "          }\n",
              "          quickchartButtonEl.classList.remove('colab-df-spinner');\n",
              "          quickchartButtonEl.classList.add('colab-df-quickchart-complete');\n",
              "        }\n",
              "        (() => {\n",
              "          let quickchartButtonEl =\n",
              "            document.querySelector('#df-3d6ce481-b3cc-451f-9208-2c75b89ae3b1 button');\n",
              "          quickchartButtonEl.style.display =\n",
              "            google.colab.kernel.accessAllowed ? 'block' : 'none';\n",
              "        })();\n",
              "      </script>\n",
              "    </div>\n",
              "\n",
              "    </div>\n",
              "  </div>\n"
            ],
            "application/vnd.google.colaboratory.intrinsic+json": {
              "type": "dataframe",
              "variable_name": "df"
            }
          },
          "metadata": {},
          "execution_count": 4
        }
      ],
      "source": [
        "\n",
        "path = '/content/drive/My Drive/Dataset/FMNIST/fashion-mnist_train.csv'\n",
        "df = pd.read_csv(path)\n",
        "dftest = pd.read_csv('/content/drive/My Drive/Dataset/FMNIST/fashion-mnist_test.csv')\n",
        "df.head()"
      ]
    },
    {
      "cell_type": "code",
      "execution_count": 5,
      "metadata": {
        "colab": {
          "base_uri": "https://localhost:8080/",
          "height": 651
        },
        "id": "zJhQaHbCUdIf",
        "outputId": "2b8c61f6-0dd1-4d8d-f1a1-e4245338b962"
      },
      "outputs": [
        {
          "output_type": "display_data",
          "data": {
            "text/plain": [
              "<Figure size 1000x1000 with 16 Axes>"
            ],
            "image/png": "[encoded data removed]"
          },
          "metadata": {}
        }
      ],
      "source": [
        "fig,axes=plt.subplots(4,4,figsize=(10,10))\n",
        "fig.suptitle(\"MNIST Dataset\")\n",
        "\n",
        "for i,ax in enumerate(axes.flat):\n",
        "  img=df.iloc[i,1:].values.reshape(28,28)\n",
        "  ax.imshow(img)\n",
        "  ax.axis('off')\n",
        "  ax.set_title(f\"Label: {df.iloc[i,0]}\")\n",
        "plt.tight_layout()\n",
        "plt.show()"
      ]
    },
    {
      "cell_type": "code",
      "execution_count": 5,
      "metadata": {
        "id": "ZNAoF9a_YLAM"
      },
      "outputs": [],
      "source": []
    },
    {
      "cell_type": "markdown",
      "metadata": {
        "id": "eb3yZIfprl4Q"
      },
      "source": [
        "## **Data Preprocessing**"
      ]
    },
    {
      "cell_type": "code",
      "execution_count": 6,
      "metadata": {
        "id": "DQQCwlODWioz"
      },
      "outputs": [],
      "source": [
        "X=df.iloc[:,1:]\n",
        "Y=df.iloc[:,0]\n",
        "X_train,X_test,Y_train,Y_test=train_test_split(X,Y,test_size=0.2,random_state=42)"
      ]
    },
    {
      "cell_type": "code",
      "execution_count": 7,
      "metadata": {
        "id": "N9GjvjZrrqTc"
      },
      "outputs": [],
      "source": [
        "X_train/=255.0\n",
        "X_test/=255.0\n",
        "\n",
        "\n",
        "X_actualtest=dftest.iloc[:,1:]\n",
        "X_actualtest/=255.0\n",
        "Y_actualtest=dftest.iloc[:,0]"
      ]
    },
    {
      "cell_type": "code",
      "execution_count": 7,
      "metadata": {
        "id": "z5OUvfXOr5wc"
      },
      "outputs": [],
      "source": []
    },
    {
      "cell_type": "code",
      "execution_count": 7,
      "metadata": {
        "id": "rVDn7Dbrr5zU"
      },
      "outputs": [],
      "source": []
    },
    {
      "cell_type": "code",
      "execution_count": 7,
      "metadata": {
        "id": "B_lPY2JWr52N"
      },
      "outputs": [],
      "source": []
    },
    {
      "cell_type": "code",
      "execution_count": 7,
      "metadata": {
        "id": "xCv6b5wQr56r"
      },
      "outputs": [],
      "source": []
    },
    {
      "cell_type": "code",
      "execution_count": 7,
      "metadata": {
        "id": "hhruBacRr5-S"
      },
      "outputs": [],
      "source": []
    },
    {
      "cell_type": "code",
      "execution_count": 8,
      "metadata": {
        "id": "MjXXGwj9r136"
      },
      "outputs": [],
      "source": [
        "class Custom_Dataset(Dataset):\n",
        "  def __init__(self,features,labels):\n",
        "    self.features=torch.tensor(features,dtype=torch.float32).reshape(-1,1,28,28)\n",
        "    self.labels=torch.tensor(labels,dtype=torch.long)\n",
        "\n",
        "  def __len__(self):\n",
        "    return len(self.features)\n",
        "\n",
        "  def __getitem__(self,idx):\n",
        "    return self.features[idx],self.labels[idx]"
      ]
    },
    {
      "cell_type": "code",
      "execution_count": 8,
      "metadata": {
        "id": "CODR_u7csWfF"
      },
      "outputs": [],
      "source": []
    },
    {
      "cell_type": "code",
      "execution_count": 9,
      "metadata": {
        "id": "7U8yZ3cVs3YZ"
      },
      "outputs": [],
      "source": [
        "testdataset=Custom_Dataset(X_test.values,Y_test.values)\n",
        "traindataset=Custom_Dataset(X_train.values,Y_train.values)"
      ]
    },
    {
      "cell_type": "code",
      "execution_count": 9,
      "metadata": {
        "id": "JyinpcDnt7RY"
      },
      "outputs": [],
      "source": []
    },
    {
      "cell_type": "code",
      "execution_count": 10,
      "metadata": {
        "id": "tbazHwXYuOjZ"
      },
      "outputs": [],
      "source": [
        "class MyNN(nn.Module):\n",
        "  def __init__(self,no_convs,input_features,conv_channels,kernel_sizes,pool_sizes,num_hidden_layers,n_layer,dropout_rate,out_dim):\n",
        "    super().__init__()\n",
        "\n",
        "\n",
        "    conv_layers=[]\n",
        "    input_feature=input_features\n",
        "    for i in range(no_convs):\n",
        "      output_feature = conv_channels[i]\n",
        "      kernel_size = kernel_sizes[i]\n",
        "      pool_size = pool_sizes[i]\n",
        "      conv_layers.extend([\n",
        "      nn.Conv2d(input_feature,output_feature,kernel_size,stride=1,padding='same'),\n",
        "      nn.ReLU(),\n",
        "      nn.BatchNorm2d(output_feature),\n",
        "      nn.MaxPool2d(pool_size,stride=2),\n",
        "        ])\n",
        "      input_feature = output_feature\n",
        "\n",
        "\n",
        "    self.features=nn.Sequential(*conv_layers)\n",
        "    with torch.no_grad():\n",
        "        dummy = torch.zeros(1, input_features, 28, 28)\n",
        "        out = self.features(dummy)\n",
        "        flatten_dim = out.view(1, -1).size(1)\n",
        "\n",
        "\n",
        "\n",
        "\n",
        "\n",
        "    input_dim=flatten_dim\n",
        "    layer=[]\n",
        "    for i in range(num_hidden_layers):\n",
        "      layer.append(nn.Linear(input_dim,n_layer))\n",
        "      layer.append(nn.BatchNorm1d(n_layer))\n",
        "      layer.append(nn.ReLU())\n",
        "      layer.append(nn.Dropout(dropout_rate))\n",
        "      input_dim=n_layer\n",
        "    layer.append(nn.Linear(n_layer,out_dim))\n",
        "    self.classifier=nn.Sequential(*layer)\n",
        "\n",
        "\n",
        "\n",
        "\n",
        "\n",
        "  def forward(self,x):\n",
        "    x = x.view(-1, 1, 28, 28) # Reshape the input\n",
        "    x=self.features(x)\n",
        "    x = torch.flatten(x, 1)\n",
        "    x=self.classifier(x)\n",
        "\n",
        "    return x"
      ]
    },
    {
      "cell_type": "code",
      "execution_count": 11,
      "metadata": {
        "id": "dVfucVlRvd77"
      },
      "outputs": [],
      "source": [
        "def objective(trial):\n",
        "    no_convs = trial.suggest_int(\"no_convs\", 1, 3)\n",
        "    conv_channels = [trial.suggest_int(f\"conv_channels_{i}\", 16, 64) for i in range(no_convs)]\n",
        "    kernel_sizes = [trial.suggest_int(f\"kernel_size_{i}\", 3, 5) for i in range(no_convs)]\n",
        "    pool_sizes = [trial.suggest_int(f\"pool_size_{i}\", 2, 2) for i in range(no_convs)]\n",
        "    num_hidden_layers = trial.suggest_int(\"num_hidden_layers\", 1, 3)\n",
        "    n_layer = trial.suggest_int(\"n_layer\", 32, 128)\n",
        "    dropout_rate = trial.suggest_float(\"dropout_rate\", 0.1, 0.5)\n",
        "    learnrate = trial.suggest_float(\"learnrate\", 1e-4, 1e-2, log=True)\n",
        "    weight_decay = trial.suggest_float(\"weight_decay\", 1e-5, 1e-1, log=True)\n",
        "    epochs = trial.suggest_int(\"epochs\", 10, 60)\n",
        "    batch_size = trial.suggest_int(\"batch_size\", 16, 128)\n",
        "    input_features = 1\n",
        "    out_dim = 10\n",
        "\n",
        "\n",
        "    model = MyNN(\n",
        "        no_convs=no_convs,\n",
        "        input_features=input_features,\n",
        "        conv_channels=conv_channels,\n",
        "        kernel_sizes=kernel_sizes,\n",
        "        pool_sizes=pool_sizes,\n",
        "        num_hidden_layers=num_hidden_layers,\n",
        "        n_layer=n_layer,\n",
        "        dropout_rate=dropout_rate,\n",
        "        out_dim=out_dim,\n",
        "    )\n",
        "    model = model.to(device)\n",
        "\n",
        "    # Loss function and optimizer\n",
        "    lossFN = nn.CrossEntropyLoss()\n",
        "    optimizer = optim.Adam(model.parameters(), lr=learnrate, weight_decay=weight_decay)\n",
        "\n",
        "\n",
        "    train_loader=DataLoader(traindataset,batch_size=batch_size,shuffle=True,pin_memory=True)\n",
        "    test_loader=DataLoader(testdataset,batch_size=batch_size,shuffle=False,pin_memory=True)\n",
        "\n",
        "\n",
        "    # Training loop\n",
        "    for epoch in range(epochs):\n",
        "        model.train()\n",
        "        Cost = 0\n",
        "        for batch_features, batch_labels in train_loader:\n",
        "            batch_features = batch_features.to(device)\n",
        "            batch_labels = batch_labels.to(device)\n",
        "\n",
        "            outputs = model(batch_features)\n",
        "            loss = lossFN(outputs, batch_labels)\n",
        "            Cost += loss.item()\n",
        "\n",
        "            optimizer.zero_grad()\n",
        "            loss.backward()\n",
        "            optimizer.step()\n",
        "\n",
        "        Cost /= len(train_loader)\n",
        "        if epoch % 5 == 0:\n",
        "            print(f\"Epoch {epoch}: Cost {Cost}\")\n",
        "\n",
        "    # Evaluation\n",
        "    model.eval()\n",
        "    total = 0\n",
        "    correct = 0\n",
        "    with torch.no_grad():\n",
        "        for batch_features, batch_labels in test_loader:\n",
        "            batch_features = batch_features.to(device)\n",
        "            batch_labels = batch_labels.to(device)\n",
        "            outputs = model(batch_features)\n",
        "            _, predicted = torch.max(outputs, 1)\n",
        "            total += batch_labels.size(0)\n",
        "            correct += (predicted == batch_labels).sum().item()\n",
        "\n",
        "    accuracy = correct / total\n",
        "    print(f\"Validation Accuracy: {accuracy}\")\n",
        "\n",
        "    return accuracy"
      ]
    },
    {
      "cell_type": "code",
      "execution_count": 12,
      "metadata": {
        "colab": {
          "base_uri": "https://localhost:8080/"
        },
        "id": "ZPFEqqzGN4Fg",
        "outputId": "ae43d1e5-fa3e-495c-ad0d-4956a1bc3afc"
      },
      "outputs": [
        {
          "output_type": "stream",
          "name": "stdout",
          "text": [
            "Collecting optuna\n",
            "  Downloading optuna-4.5.0-py3-none-any.whl.metadata (17 kB)\n",
            "Requirement already satisfied: alembic>=1.5.0 in /usr/local/lib/python3.12/dist-packages (from optuna) (1.16.5)\n",
            "Collecting colorlog (from optuna)\n",
            "  Downloading colorlog-6.9.0-py3-none-any.whl.metadata (10 kB)\n",
            "Requirement already satisfied: numpy in /usr/local/lib/python3.12/dist-packages (from optuna) (2.0.2)\n",
            "Requirement already satisfied: packaging>=20.0 in /usr/local/lib/python3.12/dist-packages (from optuna) (25.0)\n",
            "Requirement already satisfied: sqlalchemy>=1.4.2 in /usr/local/lib/python3.12/dist-packages (from optuna) (2.0.43)\n",
            "Requirement already satisfied: tqdm in /usr/local/lib/python3.12/dist-packages (from optuna) (4.67.1)\n",
            "Requirement already satisfied: PyYAML in /usr/local/lib/python3.12/dist-packages (from optuna) (6.0.3)\n",
            "Requirement already satisfied: Mako in /usr/local/lib/python3.12/dist-packages (from alembic>=1.5.0->optuna) (1.3.10)\n",
            "Requirement already satisfied: typing-extensions>=4.12 in /usr/local/lib/python3.12/dist-packages (from alembic>=1.5.0->optuna) (4.15.0)\n",
            "Requirement already satisfied: greenlet>=1 in /usr/local/lib/python3.12/dist-packages (from sqlalchemy>=1.4.2->optuna) (3.2.4)\n",
            "Requirement already satisfied: MarkupSafe>=0.9.2 in /usr/local/lib/python3.12/dist-packages (from Mako->alembic>=1.5.0->optuna) (3.0.3)\n",
            "Downloading optuna-4.5.0-py3-none-any.whl (400 kB)\n",
            "\u001b[2K   \u001b[90m━━━━━━━━━━━━━━━━━━━━━━━━━━━━━━━━━━━━━━━━\u001b[0m \u001b[32m400.9/400.9 kB\u001b[0m \u001b[31m13.2 MB/s\u001b[0m eta \u001b[36m0:00:00\u001b[0m\n",
            "\u001b[?25hDownloading colorlog-6.9.0-py3-none-any.whl (11 kB)\n",
            "Installing collected packages: colorlog, optuna\n",
            "Successfully installed colorlog-6.9.0 optuna-4.5.0\n"
          ]
        },
        {
          "output_type": "stream",
          "name": "stderr",
          "text": [
            "[I 2025-10-10 22:25:29,407] A new study created in memory with name: no-name-2adb3c8b-ccd8-4512-8855-61b5bee7db3f\n",
            "/usr/local/lib/python3.12/dist-packages/torch/nn/modules/conv.py:543: UserWarning: Using padding='same' with even kernel lengths and odd dilation may require a zero-padded copy of the input be created (Triggered internally at /pytorch/aten/src/ATen/native/Convolution.cpp:1027.)\n",
            "  return F.conv2d(\n"
          ]
        },
        {
          "output_type": "stream",
          "name": "stdout",
          "text": [
            "Epoch 0: Cost 0.4805505278566438\n",
            "Epoch 5: Cost 0.30170432390145757\n",
            "Epoch 10: Cost 0.28334333831882236\n"
          ]
        },
        {
          "output_type": "stream",
          "name": "stderr",
          "text": [
            "[I 2025-10-10 22:26:29,023] Trial 0 finished with value: 0.9053333333333333 and parameters: {'no_convs': 3, 'conv_channels_0': 48, 'conv_channels_1': 64, 'conv_channels_2': 20, 'kernel_size_0': 5, 'kernel_size_1': 4, 'kernel_size_2': 5, 'pool_size_0': 2, 'pool_size_1': 2, 'pool_size_2': 2, 'num_hidden_layers': 2, 'n_layer': 45, 'dropout_rate': 0.14090259532167493, 'learnrate': 0.0033169252720422243, 'weight_decay': 0.0009405647092888362, 'epochs': 13, 'batch_size': 61}. Best is trial 0 with value: 0.9053333333333333.\n"
          ]
        },
        {
          "output_type": "stream",
          "name": "stdout",
          "text": [
            "Validation Accuracy: 0.9053333333333333\n",
            "Epoch 0: Cost 0.5317535036609831\n",
            "Epoch 5: Cost 0.2834006102642668\n",
            "Epoch 10: Cost 0.25868338791912315\n",
            "Epoch 15: Cost 0.249730842126034\n",
            "Epoch 20: Cost 0.2386258978126917\n"
          ]
        },
        {
          "output_type": "stream",
          "name": "stderr",
          "text": [
            "[I 2025-10-10 22:28:03,384] Trial 1 finished with value: 0.9154166666666667 and parameters: {'no_convs': 3, 'conv_channels_0': 44, 'conv_channels_1': 42, 'conv_channels_2': 21, 'kernel_size_0': 3, 'kernel_size_1': 5, 'kernel_size_2': 3, 'pool_size_0': 2, 'pool_size_1': 2, 'pool_size_2': 2, 'num_hidden_layers': 1, 'n_layer': 90, 'dropout_rate': 0.30236227553831685, 'learnrate': 0.0005069352792878282, 'weight_decay': 0.008327925931508839, 'epochs': 21, 'batch_size': 47}. Best is trial 1 with value: 0.9154166666666667.\n"
          ]
        },
        {
          "output_type": "stream",
          "name": "stdout",
          "text": [
            "Validation Accuracy: 0.9154166666666667\n",
            "Epoch 0: Cost 1.2576095626687922\n",
            "Epoch 5: Cost 0.3459962504659897\n",
            "Epoch 10: Cost 0.26702493030898283\n",
            "Epoch 15: Cost 0.2278394936937305\n",
            "Epoch 20: Cost 0.19667296340880666\n",
            "Epoch 25: Cost 0.17817985831208616\n",
            "Epoch 30: Cost 0.1610546184556078\n",
            "Epoch 35: Cost 0.14520528070113511\n",
            "Epoch 40: Cost 0.13614127151730893\n"
          ]
        },
        {
          "output_type": "stream",
          "name": "stderr",
          "text": [
            "[I 2025-10-10 22:30:25,674] Trial 2 finished with value: 0.9080833333333334 and parameters: {'no_convs': 3, 'conv_channels_0': 36, 'conv_channels_1': 23, 'conv_channels_2': 19, 'kernel_size_0': 4, 'kernel_size_1': 3, 'kernel_size_2': 4, 'pool_size_0': 2, 'pool_size_1': 2, 'pool_size_2': 2, 'num_hidden_layers': 2, 'n_layer': 86, 'dropout_rate': 0.3330779768115413, 'learnrate': 0.00011680268970651953, 'weight_decay': 0.00042208410979244226, 'epochs': 42, 'batch_size': 81}. Best is trial 1 with value: 0.9154166666666667.\n"
          ]
        },
        {
          "output_type": "stream",
          "name": "stdout",
          "text": [
            "Validation Accuracy: 0.9080833333333334\n",
            "Epoch 0: Cost 1.184977685336284\n",
            "Epoch 5: Cost 0.42693696934220277\n",
            "Epoch 10: Cost 0.36673982518422205\n",
            "Epoch 15: Cost 0.34280341902130645\n",
            "Epoch 20: Cost 0.3281997684219507\n",
            "Epoch 25: Cost 0.3174825892033548\n",
            "Epoch 30: Cost 0.3043631472508777\n",
            "Epoch 35: Cost 0.299983315928457\n",
            "Epoch 40: Cost 0.29546571092674434\n",
            "Epoch 45: Cost 0.29279394992443203\n"
          ]
        },
        {
          "output_type": "stream",
          "name": "stderr",
          "text": [
            "[I 2025-10-10 22:33:38,799] Trial 3 finished with value: 0.90625 and parameters: {'no_convs': 2, 'conv_channels_0': 46, 'conv_channels_1': 23, 'kernel_size_0': 4, 'kernel_size_1': 4, 'pool_size_0': 2, 'pool_size_1': 2, 'num_hidden_layers': 3, 'n_layer': 36, 'dropout_rate': 0.31933139292610707, 'learnrate': 0.00040081413164331516, 'weight_decay': 0.0049871010144517565, 'epochs': 49, 'batch_size': 73}. Best is trial 1 with value: 0.9154166666666667.\n"
          ]
        },
        {
          "output_type": "stream",
          "name": "stdout",
          "text": [
            "Validation Accuracy: 0.90625\n",
            "Epoch 0: Cost 1.527803897880015\n",
            "Epoch 5: Cost 0.6792350255754676\n",
            "Epoch 10: Cost 0.5822671897538959\n",
            "Epoch 15: Cost 0.539054775197809\n",
            "Epoch 20: Cost 0.517589214182119\n",
            "Epoch 25: Cost 0.4943705229364534\n",
            "Epoch 30: Cost 0.4777849337304682\n",
            "Epoch 35: Cost 0.4574513453326737\n"
          ]
        },
        {
          "output_type": "stream",
          "name": "stderr",
          "text": [
            "[I 2025-10-10 22:41:04,471] Trial 4 finished with value: 0.9186666666666666 and parameters: {'no_convs': 2, 'conv_channels_0': 17, 'conv_channels_1': 41, 'kernel_size_0': 3, 'kernel_size_1': 4, 'pool_size_0': 2, 'pool_size_1': 2, 'num_hidden_layers': 3, 'n_layer': 36, 'dropout_rate': 0.43529521839557694, 'learnrate': 0.00020171119428420597, 'weight_decay': 5.4983232554820146e-05, 'epochs': 40, 'batch_size': 18}. Best is trial 4 with value: 0.9186666666666666.\n"
          ]
        },
        {
          "output_type": "stream",
          "name": "stdout",
          "text": [
            "Validation Accuracy: 0.9186666666666666\n",
            "Epoch 0: Cost 0.5267733233307981\n",
            "Epoch 5: Cost 0.23210216340281223\n",
            "Epoch 10: Cost 0.18766819989690584\n",
            "Epoch 15: Cost 0.16561272911954214\n",
            "Epoch 20: Cost 0.15300368469278516\n",
            "Epoch 25: Cost 0.13958291839574768\n",
            "Epoch 30: Cost 0.13270398098958744\n",
            "Epoch 35: Cost 0.12831078484010755\n",
            "Epoch 40: Cost 0.12441594523461927\n",
            "Epoch 45: Cost 0.11928227671481262\n"
          ]
        },
        {
          "output_type": "stream",
          "name": "stderr",
          "text": [
            "[I 2025-10-10 22:45:16,469] Trial 5 finished with value: 0.925 and parameters: {'no_convs': 2, 'conv_channels_0': 30, 'conv_channels_1': 50, 'kernel_size_0': 3, 'kernel_size_1': 4, 'pool_size_0': 2, 'pool_size_1': 2, 'num_hidden_layers': 3, 'n_layer': 101, 'dropout_rate': 0.312516596075442, 'learnrate': 0.0009910923438815737, 'weight_decay': 0.0002464037290977692, 'epochs': 47, 'batch_size': 43}. Best is trial 5 with value: 0.925.\n"
          ]
        },
        {
          "output_type": "stream",
          "name": "stdout",
          "text": [
            "Validation Accuracy: 0.925\n",
            "Epoch 0: Cost 0.37180381613797037\n",
            "Epoch 5: Cost 0.19412573682513215\n",
            "Epoch 10: Cost 0.16361258489390215\n"
          ]
        },
        {
          "output_type": "stream",
          "name": "stderr",
          "text": [
            "[I 2025-10-10 22:45:54,027] Trial 6 finished with value: 0.9101666666666667 and parameters: {'no_convs': 2, 'conv_channels_0': 36, 'conv_channels_1': 59, 'kernel_size_0': 5, 'kernel_size_1': 4, 'pool_size_0': 2, 'pool_size_1': 2, 'num_hidden_layers': 1, 'n_layer': 108, 'dropout_rate': 0.21117113039716334, 'learnrate': 0.003821373288581711, 'weight_decay': 0.00012669810348721564, 'epochs': 14, 'batch_size': 116}. Best is trial 5 with value: 0.925.\n"
          ]
        },
        {
          "output_type": "stream",
          "name": "stdout",
          "text": [
            "Validation Accuracy: 0.9101666666666667\n",
            "Epoch 0: Cost 0.658594724756976\n",
            "Epoch 5: Cost 0.22415220895564805\n",
            "Epoch 10: Cost 0.15649678001106562\n",
            "Epoch 15: Cost 0.11009546907174324\n",
            "Epoch 20: Cost 0.08689967436841108\n",
            "Epoch 25: Cost 0.06962664809559162\n",
            "Epoch 30: Cost 0.057840601934799146\n",
            "Epoch 35: Cost 0.05115175193490965\n",
            "Epoch 40: Cost 0.04513972901415885\n"
          ]
        },
        {
          "output_type": "stream",
          "name": "stderr",
          "text": [
            "[I 2025-10-10 22:54:56,531] Trial 7 finished with value: 0.9181666666666667 and parameters: {'no_convs': 3, 'conv_channels_0': 36, 'conv_channels_1': 53, 'conv_channels_2': 18, 'kernel_size_0': 3, 'kernel_size_1': 5, 'kernel_size_2': 5, 'pool_size_0': 2, 'pool_size_1': 2, 'pool_size_2': 2, 'num_hidden_layers': 2, 'n_layer': 73, 'dropout_rate': 0.18490093601014765, 'learnrate': 0.00018601428777501475, 'weight_decay': 2.755952406752386e-05, 'epochs': 44, 'batch_size': 16}. Best is trial 5 with value: 0.925.\n"
          ]
        },
        {
          "output_type": "stream",
          "name": "stdout",
          "text": [
            "Validation Accuracy: 0.9181666666666667\n",
            "Epoch 0: Cost 0.5392893768846989\n",
            "Epoch 5: Cost 0.42244456831365823\n",
            "Epoch 10: Cost 0.4138889792189002\n",
            "Epoch 15: Cost 0.411120364330709\n"
          ]
        },
        {
          "output_type": "stream",
          "name": "stderr",
          "text": [
            "[I 2025-10-10 22:55:42,784] Trial 8 finished with value: 0.88925 and parameters: {'no_convs': 1, 'conv_channels_0': 25, 'kernel_size_0': 5, 'pool_size_0': 2, 'num_hidden_layers': 1, 'n_layer': 80, 'dropout_rate': 0.10252934095334543, 'learnrate': 0.00043327434130787897, 'weight_decay': 0.025089877768609055, 'epochs': 16, 'batch_size': 60}. Best is trial 5 with value: 0.925.\n"
          ]
        },
        {
          "output_type": "stream",
          "name": "stdout",
          "text": [
            "Validation Accuracy: 0.88925\n",
            "Epoch 0: Cost 0.9940720615205\n",
            "Epoch 5: Cost 0.8001427454491185\n",
            "Epoch 10: Cost 0.7932845049933211\n",
            "Epoch 15: Cost 0.7884644826331018\n",
            "Epoch 20: Cost 0.785334772734726\n",
            "Epoch 25: Cost 0.7894677112130503\n",
            "Epoch 30: Cost 0.7832480217029437\n",
            "Epoch 35: Cost 0.7940567542895413\n",
            "Epoch 40: Cost 0.7854311193855308\n"
          ]
        },
        {
          "output_type": "stream",
          "name": "stderr",
          "text": [
            "[I 2025-10-10 22:59:12,560] Trial 9 finished with value: 0.8566666666666667 and parameters: {'no_convs': 3, 'conv_channels_0': 37, 'conv_channels_1': 49, 'conv_channels_2': 24, 'kernel_size_0': 4, 'kernel_size_1': 3, 'kernel_size_2': 5, 'pool_size_0': 2, 'pool_size_1': 2, 'pool_size_2': 2, 'num_hidden_layers': 2, 'n_layer': 37, 'dropout_rate': 0.3472406211303093, 'learnrate': 0.0009172856439025317, 'weight_decay': 0.05157469005684505, 'epochs': 42, 'batch_size': 47}. Best is trial 5 with value: 0.925.\n"
          ]
        },
        {
          "output_type": "stream",
          "name": "stdout",
          "text": [
            "Validation Accuracy: 0.8566666666666667\n"
          ]
        }
      ],
      "source": [
        "!pip install optuna\n",
        "import optuna\n",
        "study= optuna.create_study(direction=\"maximize\")\n",
        "study.optimize(objective,n_trials=10)"
      ]
    },
    {
      "cell_type": "code",
      "execution_count": 13,
      "metadata": {
        "colab": {
          "base_uri": "https://localhost:8080/"
        },
        "id": "0esM8tBAN4Fg",
        "outputId": "7be1e614-41f8-4683-e652-9ecce4bc69f9"
      },
      "outputs": [
        {
          "output_type": "execute_result",
          "data": {
            "text/plain": [
              "0.925"
            ]
          },
          "metadata": {},
          "execution_count": 13
        }
      ],
      "source": [
        "study.best_trial\n",
        "study.best_params\n",
        "study.best_value"
      ]
    },
    {
      "cell_type": "code",
      "execution_count": 25,
      "metadata": {
        "id": "QCvDsdWZN4Fg"
      },
      "outputs": [],
      "source": [
        "best_params = study.best_params\n",
        "\n",
        "conv_channels = [best_params[f\"conv_channels_{i}\"] for i in range(best_params[\"no_convs\"])]\n",
        "kernel_sizes = [best_params[f\"kernel_size_{i}\"] for i in range(best_params[\"no_convs\"])]\n",
        "pool_sizes = [best_params[f\"pool_size_{i}\"] for i in range(best_params[\"no_convs\"])]\n",
        "\n",
        "model = MyNN(\n",
        "        no_convs=best_params[\"no_convs\"],\n",
        "        input_features=1,\n",
        "        conv_channels=conv_channels,\n",
        "        kernel_sizes=kernel_sizes,\n",
        "        pool_sizes=pool_sizes,\n",
        "        num_hidden_layers=best_params[\"num_hidden_layers\"],\n",
        "        n_layer=best_params[\"n_layer\"],\n",
        "        dropout_rate=best_params[\"dropout_rate\"],\n",
        "        out_dim=10,\n",
        "    )\n",
        "model = model.to(device)\n",
        "\n",
        "    # Loss function and optimizer\n",
        "lossFN = nn.CrossEntropyLoss()\n",
        "optimizer = optim.Adam(model.parameters(), lr=best_params[\"learnrate\"], weight_decay=best_params[\"weight_decay\"])\n",
        "\n",
        "\n",
        "train_loader=DataLoader(traindataset,batch_size=best_params[\"batch_size\"],shuffle=True,pin_memory=True)\n",
        "test_loader=DataLoader(testdataset,batch_size=best_params[\"batch_size\"],shuffle=False,pin_memory=True)\n",
        "\n"
      ]
    },
    {
      "cell_type": "code",
      "metadata": {
        "colab": {
          "base_uri": "https://localhost:8080/",
          "height": 602
        },
        "id": "9064e84f",
        "outputId": "a90a0c40-a9f5-47b9-f5c6-c03ff5ad7b37"
      },
      "source": [
        "# Training loop\n",
        "epochs = best_params[\"epochs\"]\n",
        "train_losses = [] # List to store training loss per epoch\n",
        "\n",
        "for epoch in range(epochs):\n",
        "    model.train()\n",
        "    Cost = 0\n",
        "    for batch_features, batch_labels in train_loader:\n",
        "        batch_features = batch_features.to(device)\n",
        "        batch_labels = batch_labels.to(device)\n",
        "\n",
        "        outputs = model(batch_features)\n",
        "        loss = lossFN(outputs, batch_labels)\n",
        "        Cost += loss.item()\n",
        "\n",
        "        optimizer.zero_grad()\n",
        "        loss.backward()\n",
        "        optimizer.step()\n",
        "\n",
        "    Cost /= len(train_loader)\n",
        "    train_losses.append(Cost) # Store the cost for this epoch\n",
        "    if epoch % 5 == 0:\n",
        "        print(f\"Epoch {epoch}: Cost {Cost}\")\n",
        "\n",
        "# Evaluation on the test set after retraining\n",
        "model.eval()\n",
        "total = 0\n",
        "correct = 0\n",
        "with torch.no_grad():\n",
        "    for batch_features, batch_labels in test_loader:\n",
        "        batch_features = batch_features.to(device)\n",
        "        batch_labels = batch_labels.to(device)\n",
        "        outputs = model(batch_features)\n",
        "        _, predicted = torch.max(outputs, 1)\n",
        "        total += batch_labels.size(0)\n",
        "        correct += (predicted == batch_labels).sum().item()\n",
        "\n",
        "accuracy = correct / total\n",
        "print(f\"Validation Accuracy after retraining: {accuracy}\")\n",
        "\n",
        "# Plotting the training loss\n",
        "plt.figure(figsize=(10, 6))\n",
        "plt.plot(range(epochs), train_losses, label='Training Loss')\n",
        "plt.xlabel('Epoch')\n",
        "plt.ylabel('Loss')\n",
        "plt.title('Training Loss over Epochs')\n",
        "plt.legend()\n",
        "plt.grid(True)\n",
        "plt.show()"
      ],
      "execution_count": 38,
      "outputs": [
        {
          "output_type": "stream",
          "name": "stdout",
          "text": [
            "Epoch 0: Cost 0.3151611230274041\n",
            "Epoch 5: Cost 0.09636912120506168\n",
            "Epoch 10: Cost 0.06716950312132637\n",
            "Epoch 15: Cost 0.06044129875674844\n",
            "Epoch 20: Cost 0.04191608057357371\n",
            "Epoch 25: Cost 0.03791878083503495\n",
            "Epoch 30: Cost 0.04360090877333035\n",
            "Epoch 35: Cost 0.041628224540812275\n",
            "Epoch 40: Cost 0.053745836758986115\n",
            "Epoch 45: Cost 0.051047521660570055\n",
            "Validation Accuracy after retraining: 0.91\n"
          ]
        },
        {
          "output_type": "display_data",
          "data": {
            "text/plain": [
              "<Figure size 1000x600 with 1 Axes>"
            ],
            "image/png": "[encoded data removed]"
          },
          "metadata": {}
        }
      ]
    },
    {
      "cell_type": "code",
      "execution_count": 31,
      "metadata": {
        "colab": {
          "base_uri": "https://localhost:8080/"
        },
        "id": "zJrRr7MxRpsy",
        "outputId": "87f3e059-e0f9-417d-8e6e-5ca67d9665e4"
      },
      "outputs": [
        {
          "output_type": "stream",
          "name": "stdout",
          "text": [
            "0.9158333333333334\n"
          ]
        }
      ],
      "source": [
        "model.eval()\n",
        "total=0\n",
        "correct=0\n",
        "\n",
        "with torch.no_grad():\n",
        "  for batch_features,batch_labels in train_loader:\n",
        "      batch_features=batch_features.to(device)\n",
        "      batch_labels=batch_labels.to(device)\n",
        "      outputs=model(batch_features)\n",
        "      _,predicted =torch.max(outputs,1)\n",
        "      total+= batch_labels.shape[0]\n",
        "      correct+=(predicted==batch_labels).sum().item()\n",
        "\n",
        "  accuracy=correct/total\n",
        "  print(accuracy)\n"
      ]
    },
    {
      "cell_type": "code",
      "execution_count": 31,
      "metadata": {
        "id": "lQcyfJZF3PZY"
      },
      "outputs": [],
      "source": []
    },
    {
      "cell_type": "code",
      "execution_count": 32,
      "metadata": {
        "id": "fSLp71y4x83m",
        "colab": {
          "base_uri": "https://localhost:8080/"
        },
        "outputId": "bc3dceef-fc6a-4b83-c885-48812b454c51"
      },
      "outputs": [
        {
          "output_type": "stream",
          "name": "stdout",
          "text": [
            "0.9191\n"
          ]
        }
      ],
      "source": [
        "model.eval()\n",
        "total=0\n",
        "correct=0\n",
        "\n",
        "actualtestdataset=Custom_Dataset(X_actualtest.values,Y_actualtest.values)\n",
        "test_loader=DataLoader(actualtestdataset,batch_size=32,shuffle=False,pin_memory=True)\n",
        "\n",
        "\n",
        "with torch.no_grad():\n",
        "  for batch_features,batch_labels in test_loader:\n",
        "    batch_features=batch_features.to(device)\n",
        "    batch_labels=batch_labels.to(device)\n",
        "    outputs=model(batch_features)\n",
        "\n",
        "    _,predicted =torch.max(outputs,1)\n",
        "\n",
        "    total+= batch_labels.shape[0]\n",
        "    correct+=(predicted==batch_labels).sum().item()\n",
        "  print(correct/total)\n"
      ]
    },
    {
      "cell_type": "code",
      "execution_count": 32,
      "metadata": {
        "id": "G1rVj_Jbx87I"
      },
      "outputs": [],
      "source": []
    },
    {
      "cell_type": "code",
      "execution_count": 32,
      "metadata": {
        "id": "pAEdvuVpVHem"
      },
      "outputs": [],
      "source": []
    },
    {
      "cell_type": "code",
      "execution_count": 32,
      "metadata": {
        "id": "1mu0FrglyXAI"
      },
      "outputs": [],
      "source": [
        "\n"
      ]
    },
    {
      "cell_type": "code",
      "execution_count": 34,
      "metadata": {
        "colab": {
          "base_uri": "https://localhost:8080/"
        },
        "id": "a8GrJZ3F5rq0",
        "outputId": "0f20b24a-0486-4268-a424-1e55a76a5979"
      },
      "outputs": [
        {
          "output_type": "stream",
          "name": "stdout",
          "text": [
            "0.90625\n"
          ]
        }
      ],
      "source": [
        "total=0\n",
        "correct=0\n",
        "\n",
        "train_loader=DataLoader(testdataset,batch_size=32,shuffle=False,pin_memory=True)\n",
        "with torch.no_grad():\n",
        "  for batch_features,batch_labels in train_loader:\n",
        "    batch_features=batch_features.to(device)\n",
        "    batch_labels=batch_labels.to(device)\n",
        "    outputs=model(batch_features)\n",
        "\n",
        "  _,predicted =torch.max(outputs,1)\n",
        "\n",
        "  total+= batch_labels.shape[0]\n",
        "  correct+=(predicted==batch_labels).sum().item()\n",
        "  print(correct/total)"
      ]
    },
    {
      "cell_type": "code",
      "execution_count": 35,
      "metadata": {
        "id": "u41SX5p-Z7U4"
      },
      "outputs": [],
      "source": [
        "\n",
        "torch.save(model, 'my_model.pth')"
      ]
    },
    {
      "cell_type": "code",
      "execution_count": 36,
      "metadata": {
        "colab": {
          "base_uri": "https://localhost:8080/",
          "height": 17
        },
        "id": "HPXsSUU-VHT3",
        "outputId": "81f3ebf7-19e0-40d6-cbee-5ccd85e8a081"
      },
      "outputs": [
        {
          "output_type": "display_data",
          "data": {
            "text/plain": [
              "<IPython.core.display.Javascript object>"
            ],
            "application/javascript": [
              "\n",
              "    async function download(id, filename, size) {\n",
              "      if (!google.colab.kernel.accessAllowed) {\n",
              "        return;\n",
              "      }\n",
              "      const div = document.createElement('div');\n",
              "      const label = document.createElement('label');\n",
              "      label.textContent = `Downloading \"${filename}\": `;\n",
              "      div.appendChild(label);\n",
              "      const progress = document.createElement('progress');\n",
              "      progress.max = size;\n",
              "      div.appendChild(progress);\n",
              "      document.body.appendChild(div);\n",
              "\n",
              "      const buffers = [];\n",
              "      let downloaded = 0;\n",
              "\n",
              "      const channel = await google.colab.kernel.comms.open(id);\n",
              "      // Send a message to notify the kernel that we're ready.\n",
              "      channel.send({})\n",
              "\n",
              "      for await (const message of channel.messages) {\n",
              "        // Send a message to notify the kernel that we're ready.\n",
              "        channel.send({})\n",
              "        if (message.buffers) {\n",
              "          for (const buffer of message.buffers) {\n",
              "            buffers.push(buffer);\n",
              "            downloaded += buffer.byteLength;\n",
              "            progress.value = downloaded;\n",
              "          }\n",
              "        }\n",
              "      }\n",
              "      const blob = new Blob(buffers, {type: 'application/binary'});\n",
              "      const a = document.createElement('a');\n",
              "      a.href = window.URL.createObjectURL(blob);\n",
              "      a.download = filename;\n",
              "      div.appendChild(a);\n",
              "      a.click();\n",
              "      div.remove();\n",
              "    }\n",
              "  "
            ]
          },
          "metadata": {}
        },
        {
          "output_type": "display_data",
          "data": {
            "text/plain": [
              "<IPython.core.display.Javascript object>"
            ],
            "application/javascript": [
              "download(\"download_2a681073-3b0d-4da8-a9b3-f6a0c4a7e75f\", \"my_model.pth\", 1197535)"
            ]
          },
          "metadata": {}
        }
      ],
      "source": [
        "from google.colab import files\n",
        "files.download('my_model.pth')  # or 'model_full.pth'"
      ]
    },
    {
      "cell_type": "code",
      "execution_count": 37,
      "metadata": {
        "colab": {
          "base_uri": "https://localhost:8080/",
          "height": 17
        },
        "id": "ieOYUn_HZjfo",
        "outputId": "03b4e714-8b1b-4ceb-c1ac-2f8044347371"
      },
      "outputs": [
        {
          "output_type": "display_data",
          "data": {
            "text/plain": [
              "<IPython.core.display.Javascript object>"
            ],
            "application/javascript": [
              "\n",
              "    async function download(id, filename, size) {\n",
              "      if (!google.colab.kernel.accessAllowed) {\n",
              "        return;\n",
              "      }\n",
              "      const div = document.createElement('div');\n",
              "      const label = document.createElement('label');\n",
              "      label.textContent = `Downloading \"${filename}\": `;\n",
              "      div.appendChild(label);\n",
              "      const progress = document.createElement('progress');\n",
              "      progress.max = size;\n",
              "      div.appendChild(progress);\n",
              "      document.body.appendChild(div);\n",
              "\n",
              "      const buffers = [];\n",
              "      let downloaded = 0;\n",
              "\n",
              "      const channel = await google.colab.kernel.comms.open(id);\n",
              "      // Send a message to notify the kernel that we're ready.\n",
              "      channel.send({})\n",
              "\n",
              "      for await (const message of channel.messages) {\n",
              "        // Send a message to notify the kernel that we're ready.\n",
              "        channel.send({})\n",
              "        if (message.buffers) {\n",
              "          for (const buffer of message.buffers) {\n",
              "            buffers.push(buffer);\n",
              "            downloaded += buffer.byteLength;\n",
              "            progress.value = downloaded;\n",
              "          }\n",
              "        }\n",
              "      }\n",
              "      const blob = new Blob(buffers, {type: 'application/binary'});\n",
              "      const a = document.createElement('a');\n",
              "      a.href = window.URL.createObjectURL(blob);\n",
              "      a.download = filename;\n",
              "      div.appendChild(a);\n",
              "      a.click();\n",
              "      div.remove();\n",
              "    }\n",
              "  "
            ]
          },
          "metadata": {}
        },
        {
          "output_type": "display_data",
          "data": {
            "text/plain": [
              "<IPython.core.display.Javascript object>"
            ],
            "application/javascript": [
              "download(\"download_c25bead9-1fbf-4797-b5b0-65b2e5c2a315\", \"my_model_weights.pth\", 1192887)"
            ]
          },
          "metadata": {}
        }
      ],
      "source": [
        "torch.save(model.state_dict(), \"my_model_weights.pth\")\n",
        "files.download(\"my_model_weights.pth\")"
      ]
    },
    {
      "cell_type": "code",
      "execution_count": null,
      "metadata": {
        "id": "jxh8Anx3Z6Qm"
      },
      "outputs": [],
      "source": []
    }
  ],
  "metadata": {
    "accelerator": "GPU",
    "colab": {
      "gpuType": "T4",
      "provenance": []
    },
    "kernelspec": {
      "display_name": "Python 3",
      "name": "python3"
    },
    "language_info": {
      "name": "python"
    }
  },
  "nbformat": 4,
  "nbformat_minor": 0
}